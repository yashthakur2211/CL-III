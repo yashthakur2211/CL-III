{
 "cells": [
  {
   "cell_type": "code",
   "execution_count": 1,
   "id": "2ccd76f5-e57f-4155-873d-ff8b31a63a30",
   "metadata": {},
   "outputs": [],
   "source": [
    "import pandas as pd\n",
    "import random"
   ]
  },
  {
   "cell_type": "code",
   "execution_count": 2,
   "id": "15262d29-fd0c-4a7b-8316-7b67a9c186f2",
   "metadata": {},
   "outputs": [],
   "source": [
    "data = pd.read_csv('structure_damage.csv')"
   ]
  },
  {
   "cell_type": "code",
   "execution_count": 3,
   "id": "af561ca0-2bd2-4934-921d-ccbc5f541cec",
   "metadata": {},
   "outputs": [
    {
     "name": "stdout",
     "output_type": "stream",
     "text": [
      "\n",
      "Dataset Loaded:\n",
      "   id structure_name  cracks  vibrations  displacement damage_status\n",
      "0   1        bridge1       1           0             0     no damage\n",
      "1   2        bridge2       1           1             1        damage\n",
      "2   3      building1       0           0             0     no damage\n",
      "3   4      building2       1           1             0        damage\n",
      "4   5        bridge3       0           1             1        damage\n"
     ]
    }
   ],
   "source": [
    "print(\"\\nDataset Loaded:\")\n",
    "print(data.head())"
   ]
  },
  {
   "cell_type": "code",
   "execution_count": 4,
   "id": "eaf75202-4692-426a-9309-f7a1f2ac9375",
   "metadata": {},
   "outputs": [],
   "source": [
    "def generate_detectors(data, n=5):\n",
    "    detectors = []\n",
    "    for _ in range(n):\n",
    "        row = data.sample()\n",
    "        detectors.append((row['structure_name'].values[0], row['damage_status'].values[0]))\n",
    "    return detectors"
   ]
  },
  {
   "cell_type": "code",
   "execution_count": 5,
   "id": "dbe6f672-4539-49da-a191-a5f5f9c4654e",
   "metadata": {},
   "outputs": [],
   "source": [
    "def clonal_selection(detectors):\n",
    "    clones = []\n",
    "    for detector in detectors:\n",
    "        if detector[1] == \"damage\":\n",
    "            clones.append(detector)\n",
    "    return clones\n"
   ]
  },
  {
   "cell_type": "code",
   "execution_count": 6,
   "id": "d9cd1d2c-f9e9-436d-82f4-f727ccc6dbd8",
   "metadata": {},
   "outputs": [],
   "source": [
    "def negative_selection(detectors):\n",
    "    filtered = []\n",
    "    for detector in detectors:\n",
    "        if detector[1] != \"no damage\":\n",
    "            filtered.append(detector)\n",
    "    return filtered\n"
   ]
  },
  {
   "cell_type": "code",
   "execution_count": 7,
   "id": "53c8186e-2313-4fb7-ba69-bab6da8f5371",
   "metadata": {},
   "outputs": [],
   "source": [
    "def immune_network(detectors):\n",
    "    print(\"\\nImmune Network Connections:\")\n",
    "    for i in range(len(detectors)):\n",
    "        for j in range(i + 1, len(detectors)):\n",
    "            if detectors[i][1] == detectors[j][1]:\n",
    "                print(f\"{detectors[i][0]} <--> {detectors[j][0]} (similar type)\")"
   ]
  },
  {
   "cell_type": "code",
   "execution_count": 8,
   "id": "5d2e595d-76a5-496c-8379-5c104aea927b",
   "metadata": {},
   "outputs": [],
   "source": [
    "def dendritic_cell_algorithm(structure_row):\n",
    "    print(f\"\\nAnalyzing structure: {structure_row['structure_name']}\")\n",
    "    danger_score = structure_row['cracks'] + structure_row['vibrations'] + structure_row['displacement']\n",
    "    if danger_score >= 2:\n",
    "        print(f\"Structure {structure_row['structure_name']} likely DAMAGED (Danger score={danger_score})\")\n",
    "    else:\n",
    "        print(f\"Structure {structure_row['structure_name']} likely SAFE (Danger score={danger_score})\")"
   ]
  },
  {
   "cell_type": "code",
   "execution_count": 9,
   "id": "ffce10ef-1b50-4e34-bc6e-99418c365169",
   "metadata": {},
   "outputs": [
    {
     "name": "stdout",
     "output_type": "stream",
     "text": [
      "\n",
      "Generating Detectors...\n",
      "Detectors: [('bridge1', 'no damage'), ('building2', 'damage'), ('building1', 'no damage'), ('bridge2', 'damage'), ('building2', 'damage'), ('building1', 'no damage')]\n"
     ]
    }
   ],
   "source": [
    "print(\"\\nGenerating Detectors...\")\n",
    "detectors = generate_detectors(data, n=6)\n",
    "print(\"Detectors:\", detectors)"
   ]
  },
  {
   "cell_type": "code",
   "execution_count": 10,
   "id": "202d03fe-2c95-45ea-8c44-d44ded81e9b8",
   "metadata": {},
   "outputs": [
    {
     "name": "stdout",
     "output_type": "stream",
     "text": [
      "\n",
      "Applying Clonal Selection...\n",
      "Selected Detectors: [('building2', 'damage'), ('bridge2', 'damage'), ('building2', 'damage')]\n"
     ]
    }
   ],
   "source": [
    "print(\"\\nApplying Clonal Selection...\")\n",
    "selected_detectors = clonal_selection(detectors)\n",
    "print(\"Selected Detectors:\", selected_detectors)"
   ]
  },
  {
   "cell_type": "code",
   "execution_count": 11,
   "id": "199950bf-158d-4823-8415-f43490e5d399",
   "metadata": {},
   "outputs": [
    {
     "name": "stdout",
     "output_type": "stream",
     "text": [
      "\n",
      "Applying Negative Selection...\n",
      "Final Detectors after Negative Selection: [('building2', 'damage'), ('bridge2', 'damage'), ('building2', 'damage')]\n"
     ]
    }
   ],
   "source": [
    "print(\"\\nApplying Negative Selection...\")\n",
    "final_detectors = negative_selection(selected_detectors)\n",
    "print(\"Final Detectors after Negative Selection:\", final_detectors)"
   ]
  },
  {
   "cell_type": "code",
   "execution_count": 12,
   "id": "72573dd0-6a20-4869-8cd3-eaac94ed2b1a",
   "metadata": {},
   "outputs": [
    {
     "name": "stdout",
     "output_type": "stream",
     "text": [
      "\n",
      "Immune Network Connections:\n",
      "building2 <--> bridge2 (similar type)\n",
      "building2 <--> building2 (similar type)\n",
      "bridge2 <--> building2 (similar type)\n"
     ]
    }
   ],
   "source": [
    "immune_network(final_detectors)"
   ]
  },
  {
   "cell_type": "code",
   "execution_count": 13,
   "id": "c5ae94ea-a004-4c0b-99c6-80f84c1e0179",
   "metadata": {},
   "outputs": [
    {
     "name": "stdout",
     "output_type": "stream",
     "text": [
      "\n",
      "Running Dendritic Cell Algorithm on a Random Structure...\n",
      "\n",
      "Analyzing structure: building1\n",
      "Structure building1 likely SAFE (Danger score=0)\n"
     ]
    }
   ],
   "source": [
    "print(\"\\nRunning Dendritic Cell Algorithm on a Random Structure...\")\n",
    "random_structure = data.sample().iloc[0]\n",
    "dendritic_cell_algorithm(random_structure)"
   ]
  },
  {
   "cell_type": "code",
   "execution_count": null,
   "id": "602ac0c1-734f-4c91-afad-722abfd47264",
   "metadata": {},
   "outputs": [],
   "source": []
  }
 ],
 "metadata": {
  "kernelspec": {
   "display_name": "Python 3 (ipykernel)",
   "language": "python",
   "name": "python3"
  },
  "language_info": {
   "codemirror_mode": {
    "name": "ipython",
    "version": 3
   },
   "file_extension": ".py",
   "mimetype": "text/x-python",
   "name": "python",
   "nbconvert_exporter": "python",
   "pygments_lexer": "ipython3",
   "version": "3.12.7"
  }
 },
 "nbformat": 4,
 "nbformat_minor": 5
}
